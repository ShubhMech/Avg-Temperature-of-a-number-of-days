{
 "cells": [
  {
   "cell_type": "markdown",
   "id": "d9036ecc-5c07-4a35-943d-79ae51f2e96f",
   "metadata": {},
   "source": [
    "## Code to find avg of all temperatures taken as an input from the user."
   ]
  },
  {
   "cell_type": "code",
   "execution_count": 14,
   "id": "67584c56-bbdb-429a-9bb6-abfbe5071250",
   "metadata": {},
   "outputs": [
    {
     "name": "stdin",
     "output_type": "stream",
     "text": [
      "Please enter the number of days you want to add temperatures for :  5\n"
     ]
    },
    {
     "name": "stdout",
     "output_type": "stream",
     "text": [
      "[[2.12199579e-314 0.00000000e+000 4.82208070e-321 9.35800144e-312\n",
      "  0.00000000e+000]]\n"
     ]
    },
    {
     "name": "stdin",
     "output_type": "stream",
     "text": [
      "Please enter temp on day 1 :  14\n"
     ]
    },
    {
     "name": "stdout",
     "output_type": "stream",
     "text": [
      "[[1.40000000e+001 0.00000000e+000 4.82208070e-321 9.35800144e-312\n",
      "  0.00000000e+000]]\n"
     ]
    },
    {
     "name": "stdin",
     "output_type": "stream",
     "text": [
      "Please enter temp on day 2 :  16\n"
     ]
    },
    {
     "name": "stdout",
     "output_type": "stream",
     "text": [
      "[[1.40000000e+001 1.60000000e+001 4.82208070e-321 9.35800144e-312\n",
      "  0.00000000e+000]]\n"
     ]
    },
    {
     "name": "stdin",
     "output_type": "stream",
     "text": [
      "Please enter temp on day 3 :  18\n"
     ]
    },
    {
     "name": "stdout",
     "output_type": "stream",
     "text": [
      "[[1.40000000e+001 1.60000000e+001 1.80000000e+001 9.35800144e-312\n",
      "  0.00000000e+000]]\n"
     ]
    },
    {
     "name": "stdin",
     "output_type": "stream",
     "text": [
      "Please enter temp on day 4 :  20\n"
     ]
    },
    {
     "name": "stdout",
     "output_type": "stream",
     "text": [
      "[[14. 16. 18. 20.  0.]]\n"
     ]
    },
    {
     "name": "stdin",
     "output_type": "stream",
     "text": [
      "Please enter temp on day 5 :  22\n"
     ]
    }
   ],
   "source": [
    "n= int(input(\"Please enter the number of days you want to add temperatures for : \"))\n",
    "\n",
    "import numpy as np\n",
    "\n",
    "def avg_temp(n):\n",
    "    \n",
    "    temps= np.ndarray([1,n])\n",
    "    \n",
    "    for i in range(n):\n",
    "        print(temps)\n",
    "        temps[0,i]= int(input(f\"Please enter temp on day {i+1} : \"))\n",
    "    \n",
    "    return (np.mean(temps, 1), temps)\n",
    "\n",
    "mean_temp, temps=avg_temp(n)                       \n",
    "        "
   ]
  },
  {
   "cell_type": "markdown",
   "id": "82fe19a5-00af-493e-a75c-45ec66d82303",
   "metadata": {},
   "source": [
    "#### DAYS ABOVE AVERAGE  TEMPERATURE"
   ]
  },
  {
   "cell_type": "code",
   "execution_count": 15,
   "id": "f6b90f26-0d86-4442-ac6c-3113f28d68cb",
   "metadata": {},
   "outputs": [
    {
     "data": {
      "text/plain": [
       "array([[14., 16., 18., 20., 22.]])"
      ]
     },
     "execution_count": 15,
     "metadata": {},
     "output_type": "execute_result"
    }
   ],
   "source": [
    "temps"
   ]
  },
  {
   "cell_type": "code",
   "execution_count": 18,
   "id": "e27d2bcc-5023-4605-8523-0722c3e4e56f",
   "metadata": {},
   "outputs": [
    {
     "data": {
      "text/plain": [
       "array([18.])"
      ]
     },
     "execution_count": 18,
     "metadata": {},
     "output_type": "execute_result"
    }
   ],
   "source": [
    "mean_temp"
   ]
  },
  {
   "cell_type": "code",
   "execution_count": 19,
   "id": "747818b0-2567-47dd-8333-d2398a161f98",
   "metadata": {},
   "outputs": [
    {
     "data": {
      "text/plain": [
       "array([[14., 16., 18., 20., 22.]])"
      ]
     },
     "execution_count": 19,
     "metadata": {},
     "output_type": "execute_result"
    }
   ],
   "source": [
    "temps"
   ]
  },
  {
   "cell_type": "code",
   "execution_count": 25,
   "id": "25fc16e0-f6ec-471a-a930-8c6939321e35",
   "metadata": {},
   "outputs": [
    {
     "data": {
      "text/plain": [
       "array([20., 22.])"
      ]
     },
     "execution_count": 25,
     "metadata": {},
     "output_type": "execute_result"
    }
   ],
   "source": [
    "temps[temps>mean_temp]"
   ]
  },
  {
   "cell_type": "code",
   "execution_count": null,
   "id": "abe2bd95-e5d5-4da4-99ae-7a46dfb0792a",
   "metadata": {},
   "outputs": [],
   "source": []
  },
  {
   "cell_type": "code",
   "execution_count": null,
   "id": "943ce5ad-e660-454a-8d0b-de1be6e8392a",
   "metadata": {},
   "outputs": [],
   "source": []
  }
 ],
 "metadata": {
  "kernelspec": {
   "display_name": "Python 3",
   "language": "python",
   "name": "python3"
  },
  "language_info": {
   "codemirror_mode": {
    "name": "ipython",
    "version": 3
   },
   "file_extension": ".py",
   "mimetype": "text/x-python",
   "name": "python",
   "nbconvert_exporter": "python",
   "pygments_lexer": "ipython3",
   "version": "3.8.5"
  }
 },
 "nbformat": 4,
 "nbformat_minor": 5
}
