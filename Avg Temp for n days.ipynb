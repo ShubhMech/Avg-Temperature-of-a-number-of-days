{
 "cells": [
  {
   "cell_type": "markdown",
   "id": "d9036ecc-5c07-4a35-943d-79ae51f2e96f",
   "metadata": {},
   "source": [
    "## Code to find avg of all temperatures taken as an input from the user."
   ]
  },
  {
   "cell_type": "code",
   "execution_count": 8,
   "id": "67584c56-bbdb-429a-9bb6-abfbe5071250",
   "metadata": {},
   "outputs": [
    {
     "name": "stdin",
     "output_type": "stream",
     "text": [
      "Please enter the number of days you want to add temperatures for :  5\n"
     ]
    },
    {
     "name": "stdout",
     "output_type": "stream",
     "text": [
      "[[15. 25. 25. 32. 12.]]\n"
     ]
    },
    {
     "name": "stdin",
     "output_type": "stream",
     "text": [
      "Please enter temp on day 1 :  14\n"
     ]
    },
    {
     "name": "stdout",
     "output_type": "stream",
     "text": [
      "[[14. 25. 25. 32. 12.]]\n"
     ]
    },
    {
     "name": "stdin",
     "output_type": "stream",
     "text": [
      "Please enter temp on day 2 :  16\n"
     ]
    },
    {
     "name": "stdout",
     "output_type": "stream",
     "text": [
      "[[14. 16. 25. 32. 12.]]\n"
     ]
    },
    {
     "name": "stdin",
     "output_type": "stream",
     "text": [
      "Please enter temp on day 3 :  18\n"
     ]
    },
    {
     "name": "stdout",
     "output_type": "stream",
     "text": [
      "[[14. 16. 18. 32. 12.]]\n"
     ]
    },
    {
     "name": "stdin",
     "output_type": "stream",
     "text": [
      "Please enter temp on day 4 :  20\n"
     ]
    },
    {
     "name": "stdout",
     "output_type": "stream",
     "text": [
      "[[14. 16. 18. 20. 12.]]\n"
     ]
    },
    {
     "name": "stdin",
     "output_type": "stream",
     "text": [
      "Please enter temp on day 5 :  22\n"
     ]
    },
    {
     "data": {
      "text/plain": [
       "array([18.])"
      ]
     },
     "execution_count": 8,
     "metadata": {},
     "output_type": "execute_result"
    }
   ],
   "source": [
    "n= int(input(\"Please enter the number of days you want to add temperatures for : \"))\n",
    "\n",
    "import numpy as np\n",
    "\n",
    "def avg_temp(n):\n",
    "    \n",
    "    temps= np.ndarray([1,n])\n",
    "    \n",
    "    for i in range(n):\n",
    "        print(temps)\n",
    "        temps[0,i]= int(input(f\"Please enter temp on day {i+1} : \"))\n",
    "    \n",
    "    return (np.mean(temps, 1))\n",
    "\n",
    "avg_temp(n)                       \n",
    "        "
   ]
  },
  {
   "cell_type": "code",
   "execution_count": null,
   "id": "f6b90f26-0d86-4442-ac6c-3113f28d68cb",
   "metadata": {},
   "outputs": [],
   "source": []
  },
  {
   "cell_type": "code",
   "execution_count": 5,
   "id": "ceb0dab6-2bec-4de7-9074-dcfc411c1d62",
   "metadata": {},
   "outputs": [
    {
     "data": {
      "text/plain": [
       "(1, 5)"
      ]
     },
     "execution_count": 5,
     "metadata": {},
     "output_type": "execute_result"
    }
   ],
   "source": [
    "temps.shape"
   ]
  },
  {
   "cell_type": "code",
   "execution_count": null,
   "id": "e27d2bcc-5023-4605-8523-0722c3e4e56f",
   "metadata": {},
   "outputs": [],
   "source": [
    "temps[1]"
   ]
  }
 ],
 "metadata": {
  "kernelspec": {
   "display_name": "Python 3",
   "language": "python",
   "name": "python3"
  },
  "language_info": {
   "codemirror_mode": {
    "name": "ipython",
    "version": 3
   },
   "file_extension": ".py",
   "mimetype": "text/x-python",
   "name": "python",
   "nbconvert_exporter": "python",
   "pygments_lexer": "ipython3",
   "version": "3.8.5"
  }
 },
 "nbformat": 4,
 "nbformat_minor": 5
}
